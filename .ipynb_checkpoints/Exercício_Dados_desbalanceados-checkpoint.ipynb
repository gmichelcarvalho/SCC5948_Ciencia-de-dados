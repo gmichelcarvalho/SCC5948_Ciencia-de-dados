{
 "cells": [
  {
   "cell_type": "markdown",
   "metadata": {
    "colab_type": "text",
    "id": "HaabIE4ETRhY"
   },
   "source": [
    "# Exercício 04\n",
    "## Dados desbalanceados\n",
    "### Alunos:\n",
    "\n",
    " - Guilherme Michel Lima de Carvalho 11175052\n",
    " - Jaqueline Lopes Dias 11551472\n",
    " - Marcos Jardel Henriques 10357438\n",
    "\n",
    "---\n",
    "\n",
    "O dataset que será utilizado nessa questão possui 5 variáveis (`Deviations\tEmotionCount\tNumberWord\tSucRate\tTime2ans`) de entrada numéricas e 1 variável (`True Value`) de saída que representa a classe. Esse problema possui 3 classes possíveis, `-1`, `0` e `1`.\n",
    "\n",
    "**Esse exerício possui material complementar (\"Undersampling e Oversampling\")**"
   ]
  },
  {
   "cell_type": "markdown",
   "metadata": {
    "colab_type": "text",
    "id": "_YGNezFvvnES"
   },
   "source": [
    "### Questão 01.\n",
    "Carregue o dataset `DataBaseDT.csv` e mostre a distribuição das classes:\n",
    "\n",
    "*   Via histograma\n",
    "*   Exibindo o número de ocorrências de cada classe\n",
    "\n"
   ]
  },
  {
   "cell_type": "code",
   "execution_count": 4,
   "metadata": {
    "ExecuteTime": {
     "end_time": "2020-06-04T04:34:47.993545Z",
     "start_time": "2020-06-04T04:34:47.990621Z"
    },
    "colab": {},
    "colab_type": "code",
    "id": "IXyPAd32wZq4"
   },
   "outputs": [],
   "source": [
    "import pandas as pd \n",
    "import numpy as np \n",
    "import matplotlib.pyplot as plt "
   ]
  },
  {
   "cell_type": "code",
   "execution_count": 3,
   "metadata": {
    "ExecuteTime": {
     "end_time": "2020-06-04T04:34:44.137641Z",
     "start_time": "2020-06-04T04:34:43.881388Z"
    }
   },
   "outputs": [],
   "source": [
    "data = pd.read_csv('DataBaseDT.csv')"
   ]
  },
  {
   "cell_type": "code",
   "execution_count": 5,
   "metadata": {
    "ExecuteTime": {
     "end_time": "2020-06-04T04:34:58.812639Z",
     "start_time": "2020-06-04T04:34:58.716722Z"
    }
   },
   "outputs": [
    {
     "data": {
      "text/html": [
       "<div>\n",
       "<style scoped>\n",
       "    .dataframe tbody tr th:only-of-type {\n",
       "        vertical-align: middle;\n",
       "    }\n",
       "\n",
       "    .dataframe tbody tr th {\n",
       "        vertical-align: top;\n",
       "    }\n",
       "\n",
       "    .dataframe thead th {\n",
       "        text-align: right;\n",
       "    }\n",
       "</style>\n",
       "<table border=\"1\" class=\"dataframe\">\n",
       "  <thead>\n",
       "    <tr style=\"text-align: right;\">\n",
       "      <th></th>\n",
       "      <th>Deviations</th>\n",
       "      <th>EmotionCount</th>\n",
       "      <th>NumberWord</th>\n",
       "      <th>SucRate</th>\n",
       "      <th>Time2ans</th>\n",
       "      <th>True Value</th>\n",
       "    </tr>\n",
       "  </thead>\n",
       "  <tbody>\n",
       "    <tr>\n",
       "      <th>0</th>\n",
       "      <td>10</td>\n",
       "      <td>6</td>\n",
       "      <td>1</td>\n",
       "      <td>1.21</td>\n",
       "      <td>72.41</td>\n",
       "      <td>-1</td>\n",
       "    </tr>\n",
       "    <tr>\n",
       "      <th>1</th>\n",
       "      <td>13</td>\n",
       "      <td>0</td>\n",
       "      <td>8</td>\n",
       "      <td>2.56</td>\n",
       "      <td>12.50</td>\n",
       "      <td>-1</td>\n",
       "    </tr>\n",
       "    <tr>\n",
       "      <th>2</th>\n",
       "      <td>15</td>\n",
       "      <td>0</td>\n",
       "      <td>3</td>\n",
       "      <td>1.12</td>\n",
       "      <td>22.63</td>\n",
       "      <td>-1</td>\n",
       "    </tr>\n",
       "    <tr>\n",
       "      <th>3</th>\n",
       "      <td>5</td>\n",
       "      <td>107</td>\n",
       "      <td>12</td>\n",
       "      <td>2.67</td>\n",
       "      <td>27.85</td>\n",
       "      <td>-1</td>\n",
       "    </tr>\n",
       "    <tr>\n",
       "      <th>4</th>\n",
       "      <td>18</td>\n",
       "      <td>87</td>\n",
       "      <td>5</td>\n",
       "      <td>1.38</td>\n",
       "      <td>26.90</td>\n",
       "      <td>-1</td>\n",
       "    </tr>\n",
       "  </tbody>\n",
       "</table>\n",
       "</div>"
      ],
      "text/plain": [
       "   Deviations  EmotionCount  NumberWord  SucRate  Time2ans  True Value\n",
       "0          10             6           1     1.21     72.41          -1\n",
       "1          13             0           8     2.56     12.50          -1\n",
       "2          15             0           3     1.12     22.63          -1\n",
       "3           5           107          12     2.67     27.85          -1\n",
       "4          18            87           5     1.38     26.90          -1"
      ]
     },
     "execution_count": 5,
     "metadata": {},
     "output_type": "execute_result"
    }
   ],
   "source": [
    "data.head()"
   ]
  },
  {
   "cell_type": "markdown",
   "metadata": {},
   "source": [
    "**Histograma** "
   ]
  },
  {
   "cell_type": "code",
   "execution_count": 13,
   "metadata": {
    "ExecuteTime": {
     "end_time": "2020-06-04T04:47:20.483209Z",
     "start_time": "2020-06-04T04:47:20.278251Z"
    }
   },
   "outputs": [
    {
     "data": {
      "image/png": "[encoded data removed]",
      "text/plain": [
       "<Figure size 720x720 with 1 Axes>"
      ]
     },
     "metadata": {
      "needs_background": "light"
     },
     "output_type": "display_data"
    }
   ],
   "source": [
    "plt.figure(figsize=(10,10))\n",
    "plt.title('Histograma das classes', fontsize=30)\n",
    "plt.hist(data['True Value'], color='r')\n",
    "plt.grid(True)"
   ]
  },
  {
   "cell_type": "code",
   "execution_count": 12,
   "metadata": {
    "ExecuteTime": {
     "end_time": "2020-06-04T04:40:13.710550Z",
     "start_time": "2020-06-04T04:40:13.699815Z"
    }
   },
   "outputs": [
    {
     "name": "stdout",
     "output_type": "stream",
     "text": [
      "O número de observações que estão com valor -1 é de 61\n",
      "O número de observações que estão com valor 0 é de 13\n",
      "O número de observações que estão com valor 1 é de 43\n"
     ]
    }
   ],
   "source": [
    "class1 = 0\n",
    "class2 = 0 \n",
    "class3 = 0 \n",
    "for i in range(len(data['True Value'])):\n",
    "    if(data['True Value'][i] == -1):\n",
    "        class1 = class1 + 1\n",
    "    if(data['True Value'][i] == 0):\n",
    "        class2 = class2 +1 \n",
    "    if(data['True Value'][i] == 1):\n",
    "        class3 = class3 + 1 \n",
    "print('O número de observações que estão com valor -1 é de', class1)\n",
    "print('O número de observações que estão com valor 0 é de', class2)\n",
    "print('O número de observações que estão com valor 1 é de', class3)"
   ]
  },
  {
   "cell_type": "markdown",
   "metadata": {
    "colab_type": "text",
    "id": "ITDds1CcO7M9"
   },
   "source": [
    "\n",
    "\n",
    "---\n",
    "\n",
    "### Questão 02.\n",
    "\n",
    "Utilize a técnica de subamostragem aleatória nesse conjunto de dados. Ao final da sua operação, todas as classes devem ter o número de ocorrências da classe com **menor representatividade no conjunto de dados inicial**."
   ]
  },
  {
   "cell_type": "code",
   "execution_count": 17,
   "metadata": {
    "ExecuteTime": {
     "end_time": "2020-06-04T06:25:59.301807Z",
     "start_time": "2020-06-04T06:25:59.277397Z"
    },
    "colab": {},
    "colab_type": "code",
    "id": "SU636BmTJzup"
   },
   "outputs": [
    {
     "data": {
      "text/plain": [
       "-1    61\n",
       " 1    43\n",
       " 0    13\n",
       "Name: True Value, dtype: int64"
      ]
     },
     "execution_count": 17,
     "metadata": {},
     "output_type": "execute_result"
    }
   ],
   "source": [
    "data['True Value'].value_counts()"
   ]
  },
  {
   "cell_type": "markdown",
   "metadata": {},
   "source": [
    "Portanto, como a classe 0 possue apenas 13 valores, vamos fazer uma subamostragem nas outras duas classes de tal forma com que  tenham apenas 13 também"
   ]
  },
  {
   "cell_type": "code",
   "execution_count": 24,
   "metadata": {
    "ExecuteTime": {
     "end_time": "2020-06-04T06:33:40.376917Z",
     "start_time": "2020-06-04T06:33:40.371025Z"
    }
   },
   "outputs": [],
   "source": [
    "classe_negative = data[data['True Value'] == -1]\n",
    "classe_positiva = data[data['True Value'] == 1]"
   ]
  },
  {
   "cell_type": "code",
   "execution_count": 25,
   "metadata": {
    "ExecuteTime": {
     "end_time": "2020-06-04T06:33:40.740101Z",
     "start_time": "2020-06-04T06:33:40.729367Z"
    }
   },
   "outputs": [
    {
     "data": {
      "text/html": [
       "<div>\n",
       "<style scoped>\n",
       "    .dataframe tbody tr th:only-of-type {\n",
       "        vertical-align: middle;\n",
       "    }\n",
       "\n",
       "    .dataframe tbody tr th {\n",
       "        vertical-align: top;\n",
       "    }\n",
       "\n",
       "    .dataframe thead th {\n",
       "        text-align: right;\n",
       "    }\n",
       "</style>\n",
       "<table border=\"1\" class=\"dataframe\">\n",
       "  <thead>\n",
       "    <tr style=\"text-align: right;\">\n",
       "      <th></th>\n",
       "      <th>Deviations</th>\n",
       "      <th>EmotionCount</th>\n",
       "      <th>NumberWord</th>\n",
       "      <th>SucRate</th>\n",
       "      <th>Time2ans</th>\n",
       "      <th>True Value</th>\n",
       "    </tr>\n",
       "  </thead>\n",
       "  <tbody>\n",
       "    <tr>\n",
       "      <th>0</th>\n",
       "      <td>10</td>\n",
       "      <td>6</td>\n",
       "      <td>1</td>\n",
       "      <td>1.21</td>\n",
       "      <td>72.41</td>\n",
       "      <td>-1</td>\n",
       "    </tr>\n",
       "    <tr>\n",
       "      <th>1</th>\n",
       "      <td>13</td>\n",
       "      <td>0</td>\n",
       "      <td>8</td>\n",
       "      <td>2.56</td>\n",
       "      <td>12.50</td>\n",
       "      <td>-1</td>\n",
       "    </tr>\n",
       "    <tr>\n",
       "      <th>2</th>\n",
       "      <td>15</td>\n",
       "      <td>0</td>\n",
       "      <td>3</td>\n",
       "      <td>1.12</td>\n",
       "      <td>22.63</td>\n",
       "      <td>-1</td>\n",
       "    </tr>\n",
       "    <tr>\n",
       "      <th>3</th>\n",
       "      <td>5</td>\n",
       "      <td>107</td>\n",
       "      <td>12</td>\n",
       "      <td>2.67</td>\n",
       "      <td>27.85</td>\n",
       "      <td>-1</td>\n",
       "    </tr>\n",
       "    <tr>\n",
       "      <th>4</th>\n",
       "      <td>18</td>\n",
       "      <td>87</td>\n",
       "      <td>5</td>\n",
       "      <td>1.38</td>\n",
       "      <td>26.90</td>\n",
       "      <td>-1</td>\n",
       "    </tr>\n",
       "  </tbody>\n",
       "</table>\n",
       "</div>"
      ],
      "text/plain": [
       "   Deviations  EmotionCount  NumberWord  SucRate  Time2ans  True Value\n",
       "0          10             6           1     1.21     72.41          -1\n",
       "1          13             0           8     2.56     12.50          -1\n",
       "2          15             0           3     1.12     22.63          -1\n",
       "3           5           107          12     2.67     27.85          -1\n",
       "4          18            87           5     1.38     26.90          -1"
      ]
     },
     "execution_count": 25,
     "metadata": {},
     "output_type": "execute_result"
    }
   ],
   "source": [
    "classe_negative.head()"
   ]
  },
  {
   "cell_type": "code",
   "execution_count": 27,
   "metadata": {
    "ExecuteTime": {
     "end_time": "2020-06-04T06:34:44.665930Z",
     "start_time": "2020-06-04T06:34:44.655234Z"
    }
   },
   "outputs": [
    {
     "data": {
      "text/html": [
       "<div>\n",
       "<style scoped>\n",
       "    .dataframe tbody tr th:only-of-type {\n",
       "        vertical-align: middle;\n",
       "    }\n",
       "\n",
       "    .dataframe tbody tr th {\n",
       "        vertical-align: top;\n",
       "    }\n",
       "\n",
       "    .dataframe thead th {\n",
       "        text-align: right;\n",
       "    }\n",
       "</style>\n",
       "<table border=\"1\" class=\"dataframe\">\n",
       "  <thead>\n",
       "    <tr style=\"text-align: right;\">\n",
       "      <th></th>\n",
       "      <th>Deviations</th>\n",
       "      <th>EmotionCount</th>\n",
       "      <th>NumberWord</th>\n",
       "      <th>SucRate</th>\n",
       "      <th>Time2ans</th>\n",
       "      <th>True Value</th>\n",
       "    </tr>\n",
       "  </thead>\n",
       "  <tbody>\n",
       "    <tr>\n",
       "      <th>6</th>\n",
       "      <td>2</td>\n",
       "      <td>87</td>\n",
       "      <td>1</td>\n",
       "      <td>6.67</td>\n",
       "      <td>23.36</td>\n",
       "      <td>1</td>\n",
       "    </tr>\n",
       "    <tr>\n",
       "      <th>7</th>\n",
       "      <td>2</td>\n",
       "      <td>55</td>\n",
       "      <td>2</td>\n",
       "      <td>9.38</td>\n",
       "      <td>13.88</td>\n",
       "      <td>1</td>\n",
       "    </tr>\n",
       "    <tr>\n",
       "      <th>9</th>\n",
       "      <td>0</td>\n",
       "      <td>133</td>\n",
       "      <td>6</td>\n",
       "      <td>4.12</td>\n",
       "      <td>12.52</td>\n",
       "      <td>1</td>\n",
       "    </tr>\n",
       "    <tr>\n",
       "      <th>11</th>\n",
       "      <td>1</td>\n",
       "      <td>179</td>\n",
       "      <td>7</td>\n",
       "      <td>3.94</td>\n",
       "      <td>14.60</td>\n",
       "      <td>1</td>\n",
       "    </tr>\n",
       "    <tr>\n",
       "      <th>13</th>\n",
       "      <td>10</td>\n",
       "      <td>81</td>\n",
       "      <td>1</td>\n",
       "      <td>2.31</td>\n",
       "      <td>20.83</td>\n",
       "      <td>1</td>\n",
       "    </tr>\n",
       "  </tbody>\n",
       "</table>\n",
       "</div>"
      ],
      "text/plain": [
       "    Deviations  EmotionCount  NumberWord  SucRate  Time2ans  True Value\n",
       "6            2            87           1     6.67     23.36           1\n",
       "7            2            55           2     9.38     13.88           1\n",
       "9            0           133           6     4.12     12.52           1\n",
       "11           1           179           7     3.94     14.60           1\n",
       "13          10            81           1     2.31     20.83           1"
      ]
     },
     "execution_count": 27,
     "metadata": {},
     "output_type": "execute_result"
    }
   ],
   "source": [
    "classe_positiva.head()"
   ]
  },
  {
   "cell_type": "code",
   "execution_count": 37,
   "metadata": {
    "ExecuteTime": {
     "end_time": "2020-06-04T07:01:46.075264Z",
     "start_time": "2020-06-04T07:01:46.070384Z"
    }
   },
   "outputs": [],
   "source": [
    "sub_sample_negativa = classe_negative.sample(n=13)\n",
    "sub_sample_positiva = classe_positiva.sample(n=13)"
   ]
  },
  {
   "cell_type": "code",
   "execution_count": 38,
   "metadata": {
    "ExecuteTime": {
     "end_time": "2020-06-04T07:01:50.702883Z",
     "start_time": "2020-06-04T07:01:50.686254Z"
    }
   },
   "outputs": [
    {
     "data": {
      "text/html": [
       "<div>\n",
       "<style scoped>\n",
       "    .dataframe tbody tr th:only-of-type {\n",
       "        vertical-align: middle;\n",
       "    }\n",
       "\n",
       "    .dataframe tbody tr th {\n",
       "        vertical-align: top;\n",
       "    }\n",
       "\n",
       "    .dataframe thead th {\n",
       "        text-align: right;\n",
       "    }\n",
       "</style>\n",
       "<table border=\"1\" class=\"dataframe\">\n",
       "  <thead>\n",
       "    <tr style=\"text-align: right;\">\n",
       "      <th></th>\n",
       "      <th>Deviations</th>\n",
       "      <th>EmotionCount</th>\n",
       "      <th>NumberWord</th>\n",
       "      <th>SucRate</th>\n",
       "      <th>Time2ans</th>\n",
       "      <th>True Value</th>\n",
       "    </tr>\n",
       "  </thead>\n",
       "  <tbody>\n",
       "    <tr>\n",
       "      <th>90</th>\n",
       "      <td>0</td>\n",
       "      <td>0</td>\n",
       "      <td>1</td>\n",
       "      <td>1.33</td>\n",
       "      <td>9.13</td>\n",
       "      <td>-1</td>\n",
       "    </tr>\n",
       "    <tr>\n",
       "      <th>34</th>\n",
       "      <td>10</td>\n",
       "      <td>263</td>\n",
       "      <td>1</td>\n",
       "      <td>0.67</td>\n",
       "      <td>30.14</td>\n",
       "      <td>-1</td>\n",
       "    </tr>\n",
       "    <tr>\n",
       "      <th>82</th>\n",
       "      <td>7</td>\n",
       "      <td>85</td>\n",
       "      <td>3</td>\n",
       "      <td>3.85</td>\n",
       "      <td>13.19</td>\n",
       "      <td>-1</td>\n",
       "    </tr>\n",
       "    <tr>\n",
       "      <th>28</th>\n",
       "      <td>12</td>\n",
       "      <td>91</td>\n",
       "      <td>1</td>\n",
       "      <td>2.00</td>\n",
       "      <td>18.04</td>\n",
       "      <td>-1</td>\n",
       "    </tr>\n",
       "    <tr>\n",
       "      <th>27</th>\n",
       "      <td>10</td>\n",
       "      <td>163</td>\n",
       "      <td>13</td>\n",
       "      <td>2.84</td>\n",
       "      <td>55.38</td>\n",
       "      <td>-1</td>\n",
       "    </tr>\n",
       "    <tr>\n",
       "      <th>1</th>\n",
       "      <td>13</td>\n",
       "      <td>0</td>\n",
       "      <td>8</td>\n",
       "      <td>2.56</td>\n",
       "      <td>12.50</td>\n",
       "      <td>-1</td>\n",
       "    </tr>\n",
       "    <tr>\n",
       "      <th>36</th>\n",
       "      <td>0</td>\n",
       "      <td>0</td>\n",
       "      <td>2</td>\n",
       "      <td>1.21</td>\n",
       "      <td>10.99</td>\n",
       "      <td>-1</td>\n",
       "    </tr>\n",
       "    <tr>\n",
       "      <th>25</th>\n",
       "      <td>7</td>\n",
       "      <td>1</td>\n",
       "      <td>5</td>\n",
       "      <td>1.51</td>\n",
       "      <td>29.99</td>\n",
       "      <td>-1</td>\n",
       "    </tr>\n",
       "    <tr>\n",
       "      <th>79</th>\n",
       "      <td>2</td>\n",
       "      <td>31</td>\n",
       "      <td>2</td>\n",
       "      <td>2.67</td>\n",
       "      <td>17.08</td>\n",
       "      <td>-1</td>\n",
       "    </tr>\n",
       "    <tr>\n",
       "      <th>64</th>\n",
       "      <td>5</td>\n",
       "      <td>109</td>\n",
       "      <td>2</td>\n",
       "      <td>2.50</td>\n",
       "      <td>21.04</td>\n",
       "      <td>-1</td>\n",
       "    </tr>\n",
       "    <tr>\n",
       "      <th>73</th>\n",
       "      <td>4</td>\n",
       "      <td>206</td>\n",
       "      <td>3</td>\n",
       "      <td>3.12</td>\n",
       "      <td>15.82</td>\n",
       "      <td>-1</td>\n",
       "    </tr>\n",
       "    <tr>\n",
       "      <th>42</th>\n",
       "      <td>0</td>\n",
       "      <td>31</td>\n",
       "      <td>5</td>\n",
       "      <td>3.71</td>\n",
       "      <td>19.01</td>\n",
       "      <td>-1</td>\n",
       "    </tr>\n",
       "    <tr>\n",
       "      <th>33</th>\n",
       "      <td>8</td>\n",
       "      <td>407</td>\n",
       "      <td>3</td>\n",
       "      <td>1.82</td>\n",
       "      <td>69.53</td>\n",
       "      <td>-1</td>\n",
       "    </tr>\n",
       "  </tbody>\n",
       "</table>\n",
       "</div>"
      ],
      "text/plain": [
       "    Deviations  EmotionCount  NumberWord  SucRate  Time2ans  True Value\n",
       "90           0             0           1     1.33      9.13          -1\n",
       "34          10           263           1     0.67     30.14          -1\n",
       "82           7            85           3     3.85     13.19          -1\n",
       "28          12            91           1     2.00     18.04          -1\n",
       "27          10           163          13     2.84     55.38          -1\n",
       "1           13             0           8     2.56     12.50          -1\n",
       "36           0             0           2     1.21     10.99          -1\n",
       "25           7             1           5     1.51     29.99          -1\n",
       "79           2            31           2     2.67     17.08          -1\n",
       "64           5           109           2     2.50     21.04          -1\n",
       "73           4           206           3     3.12     15.82          -1\n",
       "42           0            31           5     3.71     19.01          -1\n",
       "33           8           407           3     1.82     69.53          -1"
      ]
     },
     "execution_count": 38,
     "metadata": {},
     "output_type": "execute_result"
    }
   ],
   "source": [
    "sub_sample_negativa"
   ]
  },
  {
   "cell_type": "code",
   "execution_count": 39,
   "metadata": {
    "ExecuteTime": {
     "end_time": "2020-06-04T07:01:54.399072Z",
     "start_time": "2020-06-04T07:01:54.383423Z"
    }
   },
   "outputs": [
    {
     "data": {
      "text/html": [
       "<div>\n",
       "<style scoped>\n",
       "    .dataframe tbody tr th:only-of-type {\n",
       "        vertical-align: middle;\n",
       "    }\n",
       "\n",
       "    .dataframe tbody tr th {\n",
       "        vertical-align: top;\n",
       "    }\n",
       "\n",
       "    .dataframe thead th {\n",
       "        text-align: right;\n",
       "    }\n",
       "</style>\n",
       "<table border=\"1\" class=\"dataframe\">\n",
       "  <thead>\n",
       "    <tr style=\"text-align: right;\">\n",
       "      <th></th>\n",
       "      <th>Deviations</th>\n",
       "      <th>EmotionCount</th>\n",
       "      <th>NumberWord</th>\n",
       "      <th>SucRate</th>\n",
       "      <th>Time2ans</th>\n",
       "      <th>True Value</th>\n",
       "    </tr>\n",
       "  </thead>\n",
       "  <tbody>\n",
       "    <tr>\n",
       "      <th>14</th>\n",
       "      <td>13</td>\n",
       "      <td>272</td>\n",
       "      <td>4</td>\n",
       "      <td>4.29</td>\n",
       "      <td>63.79</td>\n",
       "      <td>1</td>\n",
       "    </tr>\n",
       "    <tr>\n",
       "      <th>105</th>\n",
       "      <td>3</td>\n",
       "      <td>4</td>\n",
       "      <td>2</td>\n",
       "      <td>10.00</td>\n",
       "      <td>10.53</td>\n",
       "      <td>1</td>\n",
       "    </tr>\n",
       "    <tr>\n",
       "      <th>99</th>\n",
       "      <td>1</td>\n",
       "      <td>3</td>\n",
       "      <td>2</td>\n",
       "      <td>10.00</td>\n",
       "      <td>9.99</td>\n",
       "      <td>1</td>\n",
       "    </tr>\n",
       "    <tr>\n",
       "      <th>108</th>\n",
       "      <td>1</td>\n",
       "      <td>55</td>\n",
       "      <td>2</td>\n",
       "      <td>10.00</td>\n",
       "      <td>29.79</td>\n",
       "      <td>1</td>\n",
       "    </tr>\n",
       "    <tr>\n",
       "      <th>74</th>\n",
       "      <td>6</td>\n",
       "      <td>71</td>\n",
       "      <td>2</td>\n",
       "      <td>7.14</td>\n",
       "      <td>14.28</td>\n",
       "      <td>1</td>\n",
       "    </tr>\n",
       "    <tr>\n",
       "      <th>113</th>\n",
       "      <td>14</td>\n",
       "      <td>32</td>\n",
       "      <td>2</td>\n",
       "      <td>9.33</td>\n",
       "      <td>11.36</td>\n",
       "      <td>1</td>\n",
       "    </tr>\n",
       "    <tr>\n",
       "      <th>52</th>\n",
       "      <td>0</td>\n",
       "      <td>82</td>\n",
       "      <td>2</td>\n",
       "      <td>10.00</td>\n",
       "      <td>14.61</td>\n",
       "      <td>1</td>\n",
       "    </tr>\n",
       "    <tr>\n",
       "      <th>9</th>\n",
       "      <td>0</td>\n",
       "      <td>133</td>\n",
       "      <td>6</td>\n",
       "      <td>4.12</td>\n",
       "      <td>12.52</td>\n",
       "      <td>1</td>\n",
       "    </tr>\n",
       "    <tr>\n",
       "      <th>13</th>\n",
       "      <td>10</td>\n",
       "      <td>81</td>\n",
       "      <td>1</td>\n",
       "      <td>2.31</td>\n",
       "      <td>20.83</td>\n",
       "      <td>1</td>\n",
       "    </tr>\n",
       "    <tr>\n",
       "      <th>18</th>\n",
       "      <td>0</td>\n",
       "      <td>0</td>\n",
       "      <td>5</td>\n",
       "      <td>4.24</td>\n",
       "      <td>24.32</td>\n",
       "      <td>1</td>\n",
       "    </tr>\n",
       "    <tr>\n",
       "      <th>104</th>\n",
       "      <td>7</td>\n",
       "      <td>0</td>\n",
       "      <td>2</td>\n",
       "      <td>10.00</td>\n",
       "      <td>10.27</td>\n",
       "      <td>1</td>\n",
       "    </tr>\n",
       "    <tr>\n",
       "      <th>40</th>\n",
       "      <td>6</td>\n",
       "      <td>0</td>\n",
       "      <td>3</td>\n",
       "      <td>6.15</td>\n",
       "      <td>14.37</td>\n",
       "      <td>1</td>\n",
       "    </tr>\n",
       "    <tr>\n",
       "      <th>30</th>\n",
       "      <td>4</td>\n",
       "      <td>61</td>\n",
       "      <td>8</td>\n",
       "      <td>4.86</td>\n",
       "      <td>22.37</td>\n",
       "      <td>1</td>\n",
       "    </tr>\n",
       "  </tbody>\n",
       "</table>\n",
       "</div>"
      ],
      "text/plain": [
       "     Deviations  EmotionCount  NumberWord  SucRate  Time2ans  True Value\n",
       "14           13           272           4     4.29     63.79           1\n",
       "105           3             4           2    10.00     10.53           1\n",
       "99            1             3           2    10.00      9.99           1\n",
       "108           1            55           2    10.00     29.79           1\n",
       "74            6            71           2     7.14     14.28           1\n",
       "113          14            32           2     9.33     11.36           1\n",
       "52            0            82           2    10.00     14.61           1\n",
       "9             0           133           6     4.12     12.52           1\n",
       "13           10            81           1     2.31     20.83           1\n",
       "18            0             0           5     4.24     24.32           1\n",
       "104           7             0           2    10.00     10.27           1\n",
       "40            6             0           3     6.15     14.37           1\n",
       "30            4            61           8     4.86     22.37           1"
      ]
     },
     "execution_count": 39,
     "metadata": {},
     "output_type": "execute_result"
    }
   ],
   "source": [
    "sub_sample_positiva"
   ]
  },
  {
   "cell_type": "markdown",
   "metadata": {
    "colab_type": "text",
    "id": "iJxBcsRMSEW4"
   },
   "source": [
    "\n",
    "\n",
    "---\n",
    "\n",
    "### Questão 03.\n",
    "\n",
    "Utilize a técnica de superamostragem aleatória nesse conjunto de dados. Ao final da sua operação, todas as classes devem ter o número de ocorrências da classe com **maior representatividade no conjunto de dados inicial**."
   ]
  },
  {
   "cell_type": "code",
   "execution_count": 33,
   "metadata": {
    "ExecuteTime": {
     "end_time": "2020-06-04T06:36:21.818042Z",
     "start_time": "2020-06-04T06:36:21.811256Z"
    },
    "colab": {},
    "colab_type": "code",
    "id": "D5ElKqy5Kzvs"
   },
   "outputs": [
    {
     "data": {
      "text/plain": [
       "-1    61\n",
       " 1    43\n",
       " 0    13\n",
       "Name: True Value, dtype: int64"
      ]
     },
     "execution_count": 33,
     "metadata": {},
     "output_type": "execute_result"
    }
   ],
   "source": [
    "data['True Value'].value_counts()"
   ]
  },
  {
   "cell_type": "markdown",
   "metadata": {},
   "source": [
    "Para fazermos o oversampling temos que fazer com que as classes de menor tamanho tenham 61 observações "
   ]
  },
  {
   "cell_type": "code",
   "execution_count": 34,
   "metadata": {
    "ExecuteTime": {
     "end_time": "2020-06-04T06:44:00.915662Z",
     "start_time": "2020-06-04T06:44:00.909764Z"
    }
   },
   "outputs": [],
   "source": [
    "classe_neutra = data[data['True Value']==0]"
   ]
  },
  {
   "cell_type": "code",
   "execution_count": 35,
   "metadata": {
    "ExecuteTime": {
     "end_time": "2020-06-04T06:44:07.824805Z",
     "start_time": "2020-06-04T06:44:07.810204Z"
    }
   },
   "outputs": [
    {
     "data": {
      "text/html": [
       "<div>\n",
       "<style scoped>\n",
       "    .dataframe tbody tr th:only-of-type {\n",
       "        vertical-align: middle;\n",
       "    }\n",
       "\n",
       "    .dataframe tbody tr th {\n",
       "        vertical-align: top;\n",
       "    }\n",
       "\n",
       "    .dataframe thead th {\n",
       "        text-align: right;\n",
       "    }\n",
       "</style>\n",
       "<table border=\"1\" class=\"dataframe\">\n",
       "  <thead>\n",
       "    <tr style=\"text-align: right;\">\n",
       "      <th></th>\n",
       "      <th>Deviations</th>\n",
       "      <th>EmotionCount</th>\n",
       "      <th>NumberWord</th>\n",
       "      <th>SucRate</th>\n",
       "      <th>Time2ans</th>\n",
       "      <th>True Value</th>\n",
       "    </tr>\n",
       "  </thead>\n",
       "  <tbody>\n",
       "    <tr>\n",
       "      <th>16</th>\n",
       "      <td>9</td>\n",
       "      <td>2</td>\n",
       "      <td>3</td>\n",
       "      <td>0.86</td>\n",
       "      <td>27.87</td>\n",
       "      <td>0</td>\n",
       "    </tr>\n",
       "    <tr>\n",
       "      <th>21</th>\n",
       "      <td>0</td>\n",
       "      <td>0</td>\n",
       "      <td>1</td>\n",
       "      <td>5.38</td>\n",
       "      <td>9.16</td>\n",
       "      <td>0</td>\n",
       "    </tr>\n",
       "    <tr>\n",
       "      <th>22</th>\n",
       "      <td>0</td>\n",
       "      <td>0</td>\n",
       "      <td>3</td>\n",
       "      <td>3.49</td>\n",
       "      <td>18.13</td>\n",
       "      <td>0</td>\n",
       "    </tr>\n",
       "    <tr>\n",
       "      <th>24</th>\n",
       "      <td>3</td>\n",
       "      <td>2</td>\n",
       "      <td>3</td>\n",
       "      <td>5.00</td>\n",
       "      <td>59.46</td>\n",
       "      <td>0</td>\n",
       "    </tr>\n",
       "    <tr>\n",
       "      <th>31</th>\n",
       "      <td>5</td>\n",
       "      <td>116</td>\n",
       "      <td>5</td>\n",
       "      <td>2.27</td>\n",
       "      <td>14.82</td>\n",
       "      <td>0</td>\n",
       "    </tr>\n",
       "  </tbody>\n",
       "</table>\n",
       "</div>"
      ],
      "text/plain": [
       "    Deviations  EmotionCount  NumberWord  SucRate  Time2ans  True Value\n",
       "16           9             2           3     0.86     27.87           0\n",
       "21           0             0           1     5.38      9.16           0\n",
       "22           0             0           3     3.49     18.13           0\n",
       "24           3             2           3     5.00     59.46           0\n",
       "31           5           116           5     2.27     14.82           0"
      ]
     },
     "execution_count": 35,
     "metadata": {},
     "output_type": "execute_result"
    }
   ],
   "source": [
    "classe_neutra.head()"
   ]
  },
  {
   "cell_type": "code",
   "execution_count": 36,
   "metadata": {
    "ExecuteTime": {
     "end_time": "2020-06-04T06:45:07.878553Z",
     "start_time": "2020-06-04T06:45:07.751027Z"
    }
   },
   "outputs": [],
   "source": [
    "oversample_neutra = classe_neutra.sample(n=61,replace=True)\n",
    "oversample_positiva = classe_positiva.sample(n=61,replace=True)"
   ]
  },
  {
   "cell_type": "markdown",
   "metadata": {
    "colab_type": "text",
    "id": "7dIPsLCbSRNk"
   },
   "source": [
    "---\n",
    "\n",
    "### Questão 04.\n",
    "\n",
    "Utilize as técnicas de subamostragem e superamostragem nesse conjunto de dados. Ao final da sua operação, todas as classes devem ter o número de ocorrências **igual à $\\frac{tamanho\\_dataset}{3}$**."
   ]
  },
  {
   "cell_type": "markdown",
   "metadata": {
    "colab": {},
    "colab_type": "code",
    "id": "qc-Fx5bRK_kd"
   },
   "source": [
    "Vejamos se as classes estão com tamanhos iguais:"
   ]
  },
  {
   "cell_type": "markdown",
   "metadata": {},
   "source": [
    "**Subamostragem** "
   ]
  },
  {
   "cell_type": "code",
   "execution_count": 40,
   "metadata": {
    "ExecuteTime": {
     "end_time": "2020-06-04T07:26:11.282309Z",
     "start_time": "2020-06-04T07:26:11.277388Z"
    }
   },
   "outputs": [],
   "source": [
    "dados_sub = pd.concat([sub_sample_negativa,sub_sample_positiva,classe_neutra])"
   ]
  },
  {
   "cell_type": "code",
   "execution_count": 44,
   "metadata": {
    "ExecuteTime": {
     "end_time": "2020-06-04T07:26:57.936401Z",
     "start_time": "2020-06-04T07:26:57.773409Z"
    }
   },
   "outputs": [
    {
     "data": {
      "text/plain": [
       "array([[<matplotlib.axes._subplots.AxesSubplot object at 0x00000248F3BCF748>]],\n",
       "      dtype=object)"
      ]
     },
     "execution_count": 44,
     "metadata": {},
     "output_type": "execute_result"
    },
    {
     "data": {
      "image/png": "[encoded data removed]",
      "text/plain": [
       "<Figure size 432x288 with 1 Axes>"
      ]
     },
     "metadata": {
      "needs_background": "light"
     },
     "output_type": "display_data"
    }
   ],
   "source": [
    "dados_sub.hist('True Value')"
   ]
  },
  {
   "cell_type": "markdown",
   "metadata": {},
   "source": [
    "**Superamostragem** \n"
   ]
  },
  {
   "cell_type": "code",
   "execution_count": 45,
   "metadata": {
    "ExecuteTime": {
     "end_time": "2020-06-04T07:28:11.384424Z",
     "start_time": "2020-06-04T07:28:11.375643Z"
    }
   },
   "outputs": [],
   "source": [
    "dados_super = pd.concat([oversample_neutra,oversample_positiva,classe_negative])"
   ]
  },
  {
   "cell_type": "code",
   "execution_count": 46,
   "metadata": {
    "ExecuteTime": {
     "end_time": "2020-06-04T07:28:21.257330Z",
     "start_time": "2020-06-04T07:28:21.086529Z"
    }
   },
   "outputs": [
    {
     "data": {
      "text/plain": [
       "array([[<matplotlib.axes._subplots.AxesSubplot object at 0x00000248F3D54710>]],\n",
       "      dtype=object)"
      ]
     },
     "execution_count": 46,
     "metadata": {},
     "output_type": "execute_result"
    },
    {
     "data": {
      "image/png": "[encoded data removed]",
      "text/plain": [
       "<Figure size 432x288 with 1 Axes>"
      ]
     },
     "metadata": {
      "needs_background": "light"
     },
     "output_type": "display_data"
    }
   ],
   "source": [
    "dados_super.hist('True Value')"
   ]
  },
  {
   "cell_type": "markdown",
   "metadata": {
    "colab_type": "text",
    "id": "Gx86EFEVfTHL"
   },
   "source": [
    "\n",
    "\n",
    "---\n",
    "\n",
    "### Questão 05.\n",
    "\n",
    "Para cada um dos conjuntos utilizados nas questões 1 a 4, separe o conjunto de dados em variáveis de entrada e variável alvo e normalize as **variáveis de entrada** entre 0 e 1 (`sklearn.preprocessing.MinMaxScaler`). "
   ]
  },
  {
   "cell_type": "code",
   "execution_count": 47,
   "metadata": {
    "ExecuteTime": {
     "end_time": "2020-06-04T07:30:53.500921Z",
     "start_time": "2020-06-04T07:30:53.496986Z"
    },
    "colab": {},
    "colab_type": "code",
    "id": "57RuFi7rfqHX"
   },
   "outputs": [],
   "source": [
    "from sklearn.preprocessing import MinMaxScaler"
   ]
  },
  {
   "cell_type": "code",
   "execution_count": 50,
   "metadata": {
    "ExecuteTime": {
     "end_time": "2020-06-04T07:32:04.651873Z",
     "start_time": "2020-06-04T07:32:04.646061Z"
    }
   },
   "outputs": [],
   "source": [
    "names = ['Deviations', 'EmotionCount', 'NumberWord', 'SucRate', 'Time2ans']"
   ]
  },
  {
   "cell_type": "code",
   "execution_count": 58,
   "metadata": {
    "ExecuteTime": {
     "end_time": "2020-06-04T07:35:04.483593Z",
     "start_time": "2020-06-04T07:35:04.474810Z"
    }
   },
   "outputs": [],
   "source": [
    "X, y = data[names], data['True Value']\n",
    "X_sub,y_sub = dados_sub[names], dados_sub['True Value']\n",
    "X_super,y_super = dados_super[names], dados_super['True Value']"
   ]
  },
  {
   "cell_type": "markdown",
   "metadata": {
    "colab_type": "text",
    "id": "0Ez_fGsJTdZ_"
   },
   "source": [
    "\n",
    "\n",
    "---\n",
    "\n",
    "### Questão 06.\n",
    "\n",
    "Teste o score de classificação, utilizando a função `model_tester` abaixo, para cada um dos conjuntos da questão anterior."
   ]
  },
  {
   "cell_type": "code",
   "execution_count": 53,
   "metadata": {
    "ExecuteTime": {
     "end_time": "2020-06-04T07:32:53.989099Z",
     "start_time": "2020-06-04T07:32:51.955569Z"
    },
    "colab": {},
    "colab_type": "code",
    "id": "iGof9cE6Lhzf"
   },
   "outputs": [
    {
     "name": "stderr",
     "output_type": "stream",
     "text": [
      "C:\\Users\\Gulherme\\Anaconda3\\lib\\importlib\\_bootstrap.py:219: RuntimeWarning: numpy.ufunc size changed, may indicate binary incompatibility. Expected 192 from C header, got 216 from PyObject\n",
      "  return f(*args, **kwds)\n",
      "C:\\Users\\Gulherme\\Anaconda3\\lib\\importlib\\_bootstrap.py:219: RuntimeWarning: numpy.ufunc size changed, may indicate binary incompatibility. Expected 192 from C header, got 216 from PyObject\n",
      "  return f(*args, **kwds)\n"
     ]
    }
   ],
   "source": [
    "from sklearn.svm import SVC\n",
    "from sklearn.tree import DecisionTreeClassifier\n",
    "from sklearn.model_selection import StratifiedKFold\n",
    "from sklearn.metrics import precision_score\n",
    "from sklearn.metrics import balanced_accuracy_score\n",
    "import numpy as np\n",
    "\n",
    "\n",
    "def model_tester(inputs, target, weights=None):\n",
    "  \"\"\"\n",
    "  Executa classificação do conjunto de dados passado\n",
    "  ---------------------------------------------------------------\n",
    "  inputs:     Variáveis de entrada (X)\n",
    "  target:     Variáveis alvo (y)  \n",
    "  weights:    Dicionário com o peso de cada classe. Cada chave do dicionário é\n",
    "              uma classe, e seu valor o associado a essa classe. Por exemplo, se\n",
    "              tivermos duas classes 0 e 1 com mesmo peso, teremos o dicionario:\n",
    "              {0: 0.5, 1: 0.5}\n",
    "\n",
    "  ---------------------------------------------------------------\n",
    "  Realiza a classificação em 3 modelos (SVM com kernel linear, \n",
    "  SVM com kernel polinomial de grau 3, Árvore de decisão)\n",
    "  O desempenho é calculado utilizando a acurácia balanceada.\n",
    "  \"\"\"\n",
    "\n",
    "  if isinstance(inputs, pd.core.frame.DataFrame):\n",
    "    inputs = inputs.values\n",
    "  if isinstance(target, pd.core.frame.DataFrame) or isinstance(target, pd.core.series.Series):\n",
    "    target = target.values\n",
    "  testes = {\n",
    "    \"SVM Linear\" : SVC(kernel='linear', class_weight=weights),\n",
    "    \"SVM Polinomial grau 3\" : SVC(kernel='poly', degree=3, class_weight=weights),\n",
    "    \"Decision Tree (gini)\" : DecisionTreeClassifier(criterion='gini', class_weight=weights)    \n",
    "  }\n",
    "  for teste in testes:\n",
    "    clf = testes[teste]    \n",
    "    skf = StratifiedKFold(n_splits=10)\n",
    "    scores = []\n",
    "    for train_index, test_index in skf.split(inputs, target):      \n",
    "      X_train, X_test = inputs[train_index], inputs[test_index]\n",
    "      y_train, y_test = target[train_index], target[test_index]\n",
    "      clf.fit(X_train, y_train)\n",
    "      y_pred = clf.predict(X_test)      \n",
    "      # scores.append(precision_score(y_test, y_pred,labels=[-1, 0, 1], average='macro', zero_division=0))\n",
    "      scores.append(balanced_accuracy_score(y_test, y_pred))\n",
    "    print(\"Score do classificador '%s': %.2f\" % (teste, np.mean(scores)*100))"
   ]
  },
  {
   "cell_type": "code",
   "execution_count": 59,
   "metadata": {
    "ExecuteTime": {
     "end_time": "2020-06-04T07:35:15.864850Z",
     "start_time": "2020-06-04T07:35:10.808194Z"
    },
    "colab": {},
    "colab_type": "code",
    "id": "5LsrB3CTNOke"
   },
   "outputs": [
    {
     "name": "stdout",
     "output_type": "stream",
     "text": [
      "Score do classificador 'SVM Linear': 60.63\n",
      "Score do classificador 'SVM Polinomial grau 3': 32.78\n",
      "Score do classificador 'Decision Tree (gini)': 55.80\n"
     ]
    }
   ],
   "source": [
    "## Primeiro o score para os dados sem estarem balanceados\n",
    "model_tester(X,y)"
   ]
  },
  {
   "cell_type": "code",
   "execution_count": 60,
   "metadata": {
    "ExecuteTime": {
     "end_time": "2020-06-04T07:35:22.803495Z",
     "start_time": "2020-06-04T07:35:22.115413Z"
    }
   },
   "outputs": [
    {
     "name": "stdout",
     "output_type": "stream",
     "text": [
      "Score do classificador 'SVM Linear': 68.33\n",
      "Score do classificador 'SVM Polinomial grau 3': 35.00\n",
      "Score do classificador 'Decision Tree (gini)': 38.33\n"
     ]
    }
   ],
   "source": [
    "## Agora o score para os dados com subamostragem\n",
    "model_tester(X_sub,y_sub)"
   ]
  },
  {
   "cell_type": "markdown",
   "metadata": {},
   "source": [
    "Usando a subamostragem verificamos que o classificador SVM linear e polinomial obtiveram alguma melhora, no entanto a arvore de decisão ficou pior."
   ]
  },
  {
   "cell_type": "code",
   "execution_count": 61,
   "metadata": {
    "ExecuteTime": {
     "end_time": "2020-06-04T07:35:27.127331Z",
     "start_time": "2020-06-04T07:35:25.654548Z"
    }
   },
   "outputs": [
    {
     "name": "stdout",
     "output_type": "stream",
     "text": [
      "Score do classificador 'SVM Linear': 77.46\n",
      "Score do classificador 'SVM Polinomial grau 3': 38.10\n",
      "Score do classificador 'Decision Tree (gini)': 92.94\n"
     ]
    }
   ],
   "source": [
    "## Agora o score para os dados com superamostragem\n",
    "model_tester(X_super, y_super)"
   ]
  },
  {
   "cell_type": "markdown",
   "metadata": {},
   "source": [
    "Usando superamostragem e comparando com a perfomance no conjunto de dados original, observamos que houve melhora em todos os modelos, em particular o SVM linear e a arvore de decisão obtiveram um aumento na acurácia bastante significativo."
   ]
  },
  {
   "cell_type": "markdown",
   "metadata": {
    "colab_type": "text",
    "id": "MC2T3bs5g6ZO"
   },
   "source": [
    "\n",
    "\n",
    "---\n",
    "\n",
    "### Questão 07.\n",
    "\n",
    "Teste o score de classificação no conjunto original alterando o parâmetro `weights`. Esse parâmetro faz com que o algoritmo de classificação leve em conta o peso de cada classe no processo de treinamento. Teste 2 conjuntos de `weights` diferentes e compare com o resultado do conjunto original sem o uso dessa variavel."
   ]
  },
  {
   "cell_type": "code",
   "execution_count": 63,
   "metadata": {
    "ExecuteTime": {
     "end_time": "2020-06-04T07:38:02.027394Z",
     "start_time": "2020-06-04T07:38:02.020521Z"
    },
    "colab": {},
    "colab_type": "code",
    "id": "IRqbd82Gg8mp"
   },
   "outputs": [
    {
     "data": {
      "text/plain": [
       "-1    61\n",
       " 1    43\n",
       " 0    13\n",
       "Name: True Value, dtype: int64"
      ]
     },
     "execution_count": 63,
     "metadata": {},
     "output_type": "execute_result"
    }
   ],
   "source": [
    "### Vamos lembrar qual a disposição das classes no conjunto original\n",
    "data['True Value'].value_counts()"
   ]
  },
  {
   "cell_type": "code",
   "execution_count": 66,
   "metadata": {
    "ExecuteTime": {
     "end_time": "2020-06-04T07:40:26.393246Z",
     "start_time": "2020-06-04T07:40:26.389386Z"
    }
   },
   "outputs": [],
   "source": [
    "weights1 = {-1:61/117, 1:43/117,0:13/117}"
   ]
  },
  {
   "cell_type": "code",
   "execution_count": 67,
   "metadata": {
    "ExecuteTime": {
     "end_time": "2020-06-04T07:40:29.739753Z",
     "start_time": "2020-06-04T07:40:29.403024Z"
    }
   },
   "outputs": [
    {
     "name": "stdout",
     "output_type": "stream",
     "text": [
      "Score do classificador 'SVM Linear': 60.30\n",
      "Score do classificador 'SVM Polinomial grau 3': 33.33\n",
      "Score do classificador 'Decision Tree (gini)': 59.38\n"
     ]
    }
   ],
   "source": [
    "model_tester(X,y,weights1)"
   ]
  },
  {
   "cell_type": "markdown",
   "metadata": {},
   "source": [
    "Aqui observamos que usando esses pesos conseguimos uma melhora significativa no classificador de arvore de decisão, enquanto para os outros casos não houve grande mudança."
   ]
  },
  {
   "cell_type": "code",
   "execution_count": 68,
   "metadata": {
    "ExecuteTime": {
     "end_time": "2020-06-04T07:41:29.720391Z",
     "start_time": "2020-06-04T07:41:29.716489Z"
    }
   },
   "outputs": [],
   "source": [
    "weights2 = {-1:0.5, 1:0.3, 0:0.2}"
   ]
  },
  {
   "cell_type": "code",
   "execution_count": 69,
   "metadata": {
    "ExecuteTime": {
     "end_time": "2020-06-04T07:41:39.571860Z",
     "start_time": "2020-06-04T07:41:39.099434Z"
    }
   },
   "outputs": [
    {
     "name": "stdout",
     "output_type": "stream",
     "text": [
      "Score do classificador 'SVM Linear': 58.97\n",
      "Score do classificador 'SVM Polinomial grau 3': 33.33\n",
      "Score do classificador 'Decision Tree (gini)': 56.72\n"
     ]
    }
   ],
   "source": [
    "model_tester(X,y,weights2)"
   ]
  },
  {
   "cell_type": "markdown",
   "metadata": {},
   "source": [
    "Nesta ultima atribuição de pesos verificamos que também houve uma melhora na arvore de decisão, mas em comparação com o anterior foi menos significativa essa melhora."
   ]
  }
 ],
 "metadata": {
  "colab": {
   "collapsed_sections": [],
   "name": "Exercício - Dados desbalanceados",
   "provenance": [],
   "toc_visible": true
  },
  "kernelspec": {
   "display_name": "Python 3",
   "language": "python",
   "name": "python3"
  },
  "language_info": {
   "codemirror_mode": {
    "name": "ipython",
    "version": 3
   },
   "file_extension": ".py",
   "mimetype": "text/x-python",
   "name": "python",
   "nbconvert_exporter": "python",
   "pygments_lexer": "ipython3",
   "version": "3.7.3"
  },
  "latex_envs": {
   "LaTeX_envs_menu_present": true,
   "autoclose": true,
   "autocomplete": false,
   "bibliofile": "biblio.bib",
   "cite_by": "apalike",
   "current_citInitial": 1,
   "eqLabelWithNumbers": true,
   "eqNumInitial": 1,
   "hotkeys": {
    "equation": "Ctrl-E",
    "itemize": "Ctrl-I"
   },
   "labels_anchors": false,
   "latex_user_defs": false,
   "report_style_numbering": false,
   "user_envs_cfg": false
  },
  "varInspector": {
   "cols": {
    "lenName": 16,
    "lenType": 16,
    "lenVar": 40
   },
   "kernels_config": {
    "python": {
     "delete_cmd_postfix": "",
     "delete_cmd_prefix": "del ",
     "library": "var_list.py",
     "varRefreshCmd": "print(var_dic_list())"
    },
    "r": {
     "delete_cmd_postfix": ") ",
     "delete_cmd_prefix": "rm(",
     "library": "var_list.r",
     "varRefreshCmd": "cat(var_dic_list()) "
    }
   },
   "types_to_exclude": [
    "module",
    "function",
    "builtin_function_or_method",
    "instance",
    "_Feature"
   ],
   "window_display": false
  }
 },
 "nbformat": 4,
 "nbformat_minor": 1
}
