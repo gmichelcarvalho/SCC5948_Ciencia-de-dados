{
 "cells": [
  {
   "cell_type": "markdown",
   "metadata": {
    "colab_type": "text",
    "id": "HaabIE4ETRhY"
   },
   "source": [
    "# Exercício 03\n",
    "## Seleção de variáveis\n",
    "### Alunos:\n",
    "\n",
    "- \n",
    "- \n",
    "-\n",
    "\n",
    "\n",
    "---\n",
    "\n",
    "Nesse exercício utilizaremos um dataset para classificação binária. No total são 19 variáveis de entrada e 1 variável de saída. O dataset pode ser encontrado no arquivo \"dataset_hepatitis.csv\".\n",
    "\n",
    "Existem valores faltantes nesse dataset, representados pelo caractere \"?\".\n",
    "\n",
    "**Há material complementar disponível para resolução desse exercício. Acesse o arquivo \"Transformações em dados heterogeneos\" antes de prosseguir.**"
   ]
  },
  {
   "cell_type": "markdown",
   "metadata": {
    "colab_type": "text",
    "id": "_YGNezFvvnES"
   },
   "source": [
    "### Questão 01.\n",
    "\n",
    "Carregue o dataset (`pandas.read_csv`) e interprete os valores ausentes corretamente. Utilize o parâmetro `na_values`."
   ]
  },
  {
   "cell_type": "code",
   "execution_count": 0,
   "metadata": {
    "colab": {},
    "colab_type": "code",
    "id": "IXyPAd32wZq4"
   },
   "outputs": [],
   "source": [
    ""
   ]
  },
  {
   "cell_type": "markdown",
   "metadata": {
    "colab_type": "text",
    "id": "l28MiSJ8tEzb"
   },
   "source": [
    "\n",
    "\n",
    "---\n",
    "\n",
    "### Questão 02.\n",
    "\n",
    "Nessa questão, você irá fazer o pré-processamento dos dados.\n",
    "\n",
    "Você deve:\n",
    "\n",
    "\n",
    "*   **Para os dados numéricos:** substitua os valores faltantes utilizando a estratégia de média (`sklearn.impute.SimpleImputer`). Depois padronize o intervalo dessas variáveis (`sklearn.preprocessing.StandardScaler`)\n",
    "*   **Para os dados categóricos:** substitua os valores faltantes utilizando a estratégia de mais frequentes (`sklearn.impute.SimpleImputer`). Depois converta os dados categóricos para uma representação numérica (`sklearn.preprocessing.OneHotEncoder`),\n",
    "\n",
    "Lembre-se de utilizar as classes `sklearn.pipeline.Pipeline` e `sklearn.compose.ColumnTransformer` conforme consta no material complementar. "
   ]
  },
  {
   "cell_type": "code",
   "execution_count": 0,
   "metadata": {
    "colab": {},
    "colab_type": "code",
    "id": "7eU824MhsLjR"
   },
   "outputs": [],
   "source": [
    ""
   ]
  },
  {
   "cell_type": "markdown",
   "metadata": {
    "colab_type": "text",
    "id": "cd0PJoKnWYeQ"
   },
   "source": [
    "\n",
    "\n",
    "---\n",
    "\n",
    "### Questão 03.\n",
    "\n",
    "Determine as 10 variáveis mais relevantes do conjunto (lembre-se de concatenar a variável alvo no dataset transformado). Você pode utilizar a matriz de covariância (`numpy.cov`), correlação (`pandas.DataFrame.corr`), `scatterplot`, etc. Justifique sua escolha.\n",
    "\n",
    "Lembre-se que heatmaps (`seaborn.heatmap`) podem auxiliar a visualização."
   ]
  },
  {
   "cell_type": "code",
   "execution_count": 0,
   "metadata": {
    "colab": {},
    "colab_type": "code",
    "id": "nOSi9pEIWhzz"
   },
   "outputs": [],
   "source": [
    ""
   ]
  },
  {
   "cell_type": "markdown",
   "metadata": {
    "colab_type": "text",
    "id": "l0EWHASzXob9"
   },
   "source": [
    "\n",
    "\n",
    "---\n",
    "\n",
    "### Questão 04.\n",
    "\n",
    "Com as 10 varíaveis determinadas na questão anterior, crie um novo conjunto de dados.\n",
    "\n",
    "Lembre-se que o numpy permite indexar colunas/linhas utilizando arrays."
   ]
  },
  {
   "cell_type": "code",
   "execution_count": 0,
   "metadata": {
    "colab": {},
    "colab_type": "code",
    "id": "fZ4EDsisXn1O"
   },
   "outputs": [],
   "source": [
    ""
   ]
  },
  {
   "cell_type": "markdown",
   "metadata": {
    "colab_type": "text",
    "id": "d-MZPSb4Ya9U"
   },
   "source": [
    "\n",
    "\n",
    "---\n",
    "\n",
    "### Questão 05.\n",
    "\n",
    "Reduza a dimensionalidade do conjunto de dados criado utilizando a técnica PCA (`sklearn.decomposition.PCA`). Reduza a dimensionalidade de forma que no mínimo 80% da variância dos dados seja mantida (atente-se ao atributo  `explained_variance_ratio_`). Depois exiba os eixos principais."
   ]
  },
  {
   "cell_type": "code",
   "execution_count": 0,
   "metadata": {
    "colab": {},
    "colab_type": "code",
    "id": "aTib3VxtYviF"
   },
   "outputs": [],
   "source": [
    ""
   ]
  },
  {
   "cell_type": "markdown",
   "metadata": {
    "colab_type": "text",
    "id": "OEWacRgwZnBW"
   },
   "source": [
    "\n",
    "\n",
    "---\n",
    "\n",
    "### Questão 06.\n",
    "\n",
    "Teste um modelo de classificação (através da função `model_tester`) nos conjuntos criados nas questões 4 e 5. Houve redução expressiva da acurácia?"
   ]
  },
  {
   "cell_type": "code",
   "execution_count": 0,
   "metadata": {
    "colab": {},
    "colab_type": "code",
    "id": "P3FUJqCvZKbC"
   },
   "outputs": [],
   "source": [
    "from sklearn.neural_network import MLPClassifier\n",
    "from sklearn.model_selection import cross_val_score\n",
    "from sklearn.decomposition import PCA\n",
    "\n",
    "# - Descrição:  Função que testa um modelo de classificação (MLP). \n",
    "# - Parâmetros: Variáveis de entrada (inputs) e a variável alvo (target).\n",
    "# - Retorna:    Não retorna nenhum valor. Mas imprime a acurácia do modelo.\n",
    "def model_tester(inputs, target):\n",
    "  clf = MLPClassifier(hidden_layer_sizes=(5,), random_state=0, max_iter=10000)\n",
    "  scores = cross_val_score(clf, inputs, target, cv=10)\n",
    "  print(\"Score do classificador: %.2f\" % (scores.mean()*100))"
   ]
  },
  {
   "cell_type": "code",
   "execution_count": 0,
   "metadata": {
    "colab": {},
    "colab_type": "code",
    "id": "n76L8n8DZtMm"
   },
   "outputs": [],
   "source": [
    ""
   ]
  }
 ],
 "metadata": {
  "colab": {
   "collapsed_sections": [],
   "name": "Exercício - Seleção de Variáveis",
   "provenance": []
  },
  "kernelspec": {
   "display_name": "Python 3",
   "name": "python3"
  }
 },
 "nbformat": 4,
 "nbformat_minor": 0
}
